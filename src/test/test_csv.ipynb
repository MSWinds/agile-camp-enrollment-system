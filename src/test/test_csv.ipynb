{
 "cells": [
  {
   "cell_type": "code",
   "execution_count": 6,
   "metadata": {},
   "outputs": [],
   "source": [
    "import pandas as pd\n",
    "import os"
   ]
  },
  {
   "attachments": {},
   "cell_type": "markdown",
   "metadata": {},
   "source": [
    "### Create a sample csv file to pretend to be a database for camper info"
   ]
  },
  {
   "cell_type": "code",
   "execution_count": 20,
   "metadata": {},
   "outputs": [],
   "source": [
    "# create a sample dataset for camper_info.csv\n",
    "df_ci = pd.DataFrame({\n",
    "    'CamperID': range(1, 217),\n",
    "    'First Name': ['John'] * 216,\n",
    "    'Last Name': ['Doe'] * 216,\n",
    "    'Birth Date': ['4/1/2012'] * 216,\n",
    "    'Age': [11] * 216,\n",
    "    'Gender': ['M'] * 108 + ['F'] * 108, # three sessions, 36 campers each\n",
    "    'Session': ['June'] * 36 + ['July'] * 36 + ['August'] * 36 +\n",
    "               ['June'] * 36 + ['July'] * 36 + ['August'] * 36,\n",
    "    'Contact Information': ['555-1234', '555-5678', '555-4321', '555-8765', '555-9876','555-9877'] * 36,\n",
    "    'Special Requests': ['None'] * 216,\n",
    "    'Check Number': ['1001'] * 216,\n",
    "    'Payee Name': ['John Doe', 'Jane Doe', 'Alice Doe', 'Bob Doe', 'Charlie Doe', 'Kate Doe'] * 36,\n",
    "    'Amount': [1000] * 216,\n",
    "    'Valid': ['Yes'] * 216,\n",
    "    'Date': ['4/1/2023'] * 216\n",
    "})\n",
    "\n",
    "# Get the absolute path \n",
    "file_path = os.path.abspath('..\\\\..\\\\data')\n",
    "\n",
    "# Create the data directory path\n",
    "file_path = os.path.join(file_path, 'camper_info.csv')\n",
    "\n",
    "# Save the dataframe as a CSV file\n",
    "df_ci.to_csv(file_path, index=False)\n"
   ]
  },
  {
   "attachments": {},
   "cell_type": "markdown",
   "metadata": {},
   "source": [
    "### Remove the camper_info.csv file"
   ]
  },
  {
   "cell_type": "code",
   "execution_count": 19,
   "metadata": {},
   "outputs": [],
   "source": [
    "# make sure you saved your file before running this cell\n",
    "file_path = os.path.abspath('../../data/camper_info.csv')\n",
    "if os.path.exists(file_path):\n",
    "    os.remove(file_path)"
   ]
  },
  {
   "attachments": {},
   "cell_type": "markdown",
   "metadata": {},
   "source": [
    "### Create a sample csv file to pretend to be a database for checkin info"
   ]
  },
  {
   "cell_type": "code",
   "execution_count": 23,
   "metadata": {},
   "outputs": [],
   "source": [
    "df_ck = pd.DataFrame({\n",
    "    'Last Name': ['Doe'] * 216,\n",
    "    'CamperID': range(1, 217),\n",
    "    'Gender': df_ci['Gender'],\n",
    "    'Check-in Status': ['TRUE'] * 216,\n",
    "    'Check-in Time': [\"4/30/2023\"] * 216,\n",
    "    'Equipment Valid': ['Yes'] * 216,\n",
    "    'Medical Condition': ['None'] * 216,\n",
    "    'Dietary Restriction': ['None'] * 216,\n",
    "    'Emergency Contact Information': ['John Doe', 'Jane Doe', 'Alice Doe', 'Bob Doe', 'Charlie Doe', 'Kate Doe'] * 36,\n",
    "})\n",
    "\n",
    "\n",
    "# Get the absolute path \n",
    "file_path = os.path.abspath('..\\\\..\\\\data')\n",
    "\n",
    "# Create the data directory path\n",
    "file_path = os.path.join(file_path, 'checkin_info.csv')\n",
    "\n",
    "# Save the dataframe as a CSV file\n",
    "df_ck.to_csv(file_path, index=False)\n"
   ]
  },
  {
   "attachments": {},
   "cell_type": "markdown",
   "metadata": {},
   "source": [
    "### Remove the checkin_info.csv file"
   ]
  },
  {
   "cell_type": "code",
   "execution_count": null,
   "metadata": {},
   "outputs": [],
   "source": [
    "# make sure you saved your file before running this cell\n",
    "file_path = os.path.abspath('../../data/checkin_info.csv')\n",
    "if os.path.exists(file_path):\n",
    "    os.remove(file_path)"
   ]
  }
 ],
 "metadata": {
  "kernelspec": {
   "display_name": "venv",
   "language": "python",
   "name": "python3"
  },
  "language_info": {
   "codemirror_mode": {
    "name": "ipython",
    "version": 3
   },
   "file_extension": ".py",
   "mimetype": "text/x-python",
   "name": "python",
   "nbconvert_exporter": "python",
   "pygments_lexer": "ipython3",
   "version": "3.10.10"
  },
  "orig_nbformat": 4
 },
 "nbformat": 4,
 "nbformat_minor": 2
}
